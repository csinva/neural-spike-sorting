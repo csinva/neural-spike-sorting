{
 "cells": [
  {
   "cell_type": "code",
   "execution_count": 55,
   "metadata": {
    "collapsed": false
   },
   "outputs": [],
   "source": [
    "import numpy as np\n",
    "import pandas as pd\n",
    "import matplotlib.pyplot as plt\n",
    "import keras.models\n",
    "from keras.layers.convolutional import Conv1D, Conv2D, ZeroPadding1D, ZeroPadding2D\n",
    "from keras.layers import Embedding\n",
    "from keras.utils import plot_model\n",
    "from sklearn.preprocessing import LabelBinarizer\n",
    "from keras.utils import np_utils\n",
    "from math import floor, ceil\n",
    "from sklearn.metrics import accuracy_score\n",
    "\n",
    "def load_and_format_data():\n",
    "    # load data\n",
    "    dataset = 'train/1'\n",
    "    x_train = pd.read_csv(dataset + '.train.calcium.csv')['0']  # todo: concat these\n",
    "    y_train = pd.read_csv(dataset + '.train.spikes.csv')['0']\n",
    "    x_test = pd.read_csv(dataset + '.train.calcium.csv')['1']  # todo: concat these\n",
    "    y_test = pd.read_csv(dataset + '.train.spikes.csv')['1']\n",
    "    # binarize labels\n",
    "    lb = LabelBinarizer()\n",
    "    lb.fit(y_train) # this lb takes 0 -> [1,0,0,0,0], 1-> [0,1,0,0,0], etc.\n",
    "    y_train = lb.transform(y_train)\n",
    "#     y_test = lb.transform(y_test)\n",
    "    # reshape data\n",
    "    x_train = x_train.values.reshape((1, len(x_train), 1))\n",
    "    y_train = y_train.reshape((1, len(y_train), y_train.shape[1]))\n",
    "    x_test = x_test.values.reshape((1, len(x_test), 1))\n",
    "#     y_test = y_test.reshape((1, len(y_test), y_test.shape[1]))\n",
    "    return x_train, y_train, x_test, y_test\n",
    "\n",
    "\n",
    "def plot(calcium, spikes, xlim):\n",
    "    t = np.arange(len(calcium)) / 100.0\n",
    "    plt.figure(figsize=(15, 3))\n",
    "    plt.plot(t, calcium, color=(.1, .6, .4))\n",
    "    plt.plot(t, spikes / 2.0 - 1, color='k')\n",
    "    plt.yticks([])\n",
    "    plt.ylim([-2., 4.])\n",
    "    plt.xlim(xlim)\n",
    "    plt.grid()\n",
    "    plt.show()"
   ]
  },
  {
   "cell_type": "markdown",
   "metadata": {},
   "source": [
    "# prepare inputs"
   ]
  },
  {
   "cell_type": "code",
   "execution_count": 56,
   "metadata": {
    "collapsed": false
   },
   "outputs": [],
   "source": [
    "x_train, y_train, x_test, y_test = load_and_format_data()"
   ]
  },
  {
   "cell_type": "markdown",
   "metadata": {},
   "source": [
    "# create model"
   ]
  },
  {
   "cell_type": "code",
   "execution_count": 32,
   "metadata": {
    "collapsed": true
   },
   "outputs": [],
   "source": [
    "max_features = 10\n",
    "embedding_dims = 10\n",
    "maxlen = 100\n",
    "kernel_size = 5\n",
    "pad_size = floor(kernel_size / 2)\n",
    "model = keras.models.Sequential()\n",
    "model.add(ZeroPadding1D(padding=pad_size, input_shape=(None, 1)))\n",
    "model.add(Conv1D(filters=5, kernel_size=kernel_size, activation=\"softmax\"))\n",
    "# model.add(Dense(12, input_dim=8, activation='relu'))\n",
    "# model.add(Dense(8, activation='relu'))\n",
    "# model.add(Dense(1, activation='sigmoid'))\n",
    "# compile model\n",
    "model.compile(loss='mse', optimizer='adam', metrics=['accuracy'])"
   ]
  },
  {
   "cell_type": "markdown",
   "metadata": {},
   "source": [
    "# fit the model"
   ]
  },
  {
   "cell_type": "code",
   "execution_count": 41,
   "metadata": {
    "collapsed": false
   },
   "outputs": [
    {
     "data": {
      "text/plain": [
       "<keras.callbacks.History at 0x119f69518>"
      ]
     },
     "execution_count": 41,
     "metadata": {},
     "output_type": "execute_result"
    }
   ],
   "source": [
    "epochs = 100\n",
    "model.fit(x_train, y_train, epochs=epochs, verbose=0)"
   ]
  },
  {
   "cell_type": "markdown",
   "metadata": {},
   "source": [
    "# evaluate"
   ]
  },
  {
   "cell_type": "code",
   "execution_count": 63,
   "metadata": {
    "collapsed": false
   },
   "outputs": [
    {
     "name": "stdout",
     "output_type": "stream",
     "text": [
      "predict...\n",
      "[[ 0.26623961  0.11127386  0.21197119  0.26301327  0.14750203]\n",
      " [ 0.29660207  0.06754951  0.20933472  0.2900295   0.13648428]\n",
      " [ 0.37587559  0.06536113  0.17672665  0.26159251  0.12044407]\n",
      " ..., \n",
      " [ 0.29707941  0.11918648  0.19793138  0.22511289  0.16068982]\n",
      " [ 0.325609    0.14013241  0.17212558  0.21240133  0.14973164]\n",
      " [ 0.3196809   0.13500638  0.16950004  0.19854881  0.17726389]]\n",
      "(71986,)\n",
      "(71986,)\n",
      "y_pred nonzeros 0.0778206873559\n",
      "acc 0.952393520962\n",
      "evaluating...\n"
     ]
    }
   ],
   "source": [
    "print('predict...')\n",
    "y_pred = model.predict(x_test)[0,:,:]\n",
    "print(y_pred)\n",
    "y_pred = np.argmax(y_pred,axis=1)\n",
    "print(y_pred.shape)\n",
    "print(y_test.shape)\n",
    "print('y_pred nonzeros',str(np.sum(y_pred) / y_pred.size))\n",
    "print(\"acc\",accuracy_score(y_pred,y_test))\n",
    "\n",
    "# evaluate the model\n",
    "print('evaluating...')"
   ]
  }
 ],
 "metadata": {
  "kernelspec": {
   "display_name": "Python 3",
   "language": "python",
   "name": "python3"
  },
  "language_info": {
   "codemirror_mode": {
    "name": "ipython",
    "version": 3
   },
   "file_extension": ".py",
   "mimetype": "text/x-python",
   "name": "python",
   "nbconvert_exporter": "python",
   "pygments_lexer": "ipython3",
   "version": "3.4.1"
  }
 },
 "nbformat": 4,
 "nbformat_minor": 0
}
