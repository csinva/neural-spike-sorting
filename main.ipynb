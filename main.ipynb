{
 "cells": [
  {
   "cell_type": "code",
   "execution_count": 1,
   "metadata": {
    "collapsed": false
   },
   "outputs": [
    {
     "name": "stderr",
     "output_type": "stream",
     "text": [
      "Using TensorFlow backend.\n"
     ]
    }
   ],
   "source": [
    "import numpy as np\n",
    "import pandas as pd\n",
    "import matplotlib.pyplot as plt\n",
    "import keras.models\n",
    "from keras.layers.convolutional import Conv1D, ZeroPadding1D\n",
    "from keras.layers.recurrent import Recurrent, LSTM, GRU\n",
    "from keras.utils import plot_model\n",
    "from sklearn.preprocessing import LabelBinarizer\n",
    "from keras.utils import np_utils\n",
    "from math import floor, ceil\n",
    "from sklearn.metrics import accuracy_score\n",
    "import keras.backend as tf\n",
    "% matplotlib inline"
   ]
  },
  {
   "cell_type": "markdown",
   "metadata": {},
   "source": [
    "# preprocess"
   ]
  },
  {
   "cell_type": "code",
   "execution_count": 9,
   "metadata": {
    "collapsed": false
   },
   "outputs": [
    {
     "name": "stdout",
     "output_type": "stream",
     "text": [
      "train, test sizes (1, 884682, 2) (1, 9698, 2)\n"
     ]
    }
   ],
   "source": [
    "PAD_WITH_DERIV = True\n",
    "def pad_with_deriv(x_train):\n",
    "    x_deriv = np.zeros(x_train.shape)\n",
    "    x_deriv[:,:-1,:] = np.diff(x_train,axis=1)\n",
    "    x_train_2 = np.zeros((x_train.shape[0],x_train.shape[1],2))\n",
    "    x_train_2[:,:,0] = x_train[:,:,0]\n",
    "    x_train_2[:,:,1] = x_deriv[:,:,0]\n",
    "    return x_train_2\n",
    "\n",
    "def load_and_format_data():\n",
    "    # load data\n",
    "    x_train = np.array([])\n",
    "    y_train = np.array([])\n",
    "    for i in ['7']:\n",
    "        dataset = 'train/'+str(i)\n",
    "        x_data = pd.read_csv(dataset + '.train.calcium.csv')\n",
    "        y_data = pd.read_csv(dataset + '.train.spikes.csv')    \n",
    "        for key in x_data:\n",
    "            x_train = np.concatenate((x_train,x_data[key].dropna()))\n",
    "            y_train = np.concatenate((y_train,y_data[key].dropna()))\n",
    "    x_test = pd.read_csv('train/10' + '.train.calcium.csv')['9'].dropna()\n",
    "    y_test = pd.read_csv('train/10' + '.train.spikes.csv')['9'].dropna()\n",
    "    num_y = int(np.max(y_train+1))\n",
    "    # binarize labels\n",
    "    lb = LabelBinarizer()\n",
    "    lb.fit(y_train) # this lb takes 0 -> [1,0,0,0,0], 1-> [0,1,0,0,0], etc.\n",
    "    y_train_orig = y_train\n",
    "    y_train = lb.transform(y_train)\n",
    "#     y_test = lb.transform(y_test)\n",
    "    # reshape data\n",
    "    x_train = x_train.reshape((1, len(x_train), 1))\n",
    "    y_train = y_train.reshape((1, len(y_train), y_train.shape[1]))\n",
    "    x_test = x_test.values.reshape((1, len(x_test), 1))\n",
    "#     y_test = y_test.reshape((1, len(y_test), y_test.shape[1]))\n",
    "    if PAD_WITH_DERIV:\n",
    "        x_train = pad_with_deriv(x_train)\n",
    "        x_test = pad_with_deriv(x_test)\n",
    "    return x_train, y_train, x_test, y_test, y_train_orig, num_y\n",
    "x_train, y_train, x_test, y_test, y_train_orig, num_y = load_and_format_data()\n",
    "print(\"train, test sizes\",x_train.shape,x_test.shape)"
   ]
  },
  {
   "cell_type": "code",
   "execution_count": 3,
   "metadata": {
    "code_folding": [
     1,
     19,
     34
    ],
    "collapsed": true
   },
   "outputs": [],
   "source": [
    "import keras.backend as K\n",
    "def matthews_correlation(y_true, y_pred):\n",
    "    y_pred_pos = K.round(K.clip(y_pred, 0, 1))\n",
    "    y_pred_neg = 1 - y_pred_pos\n",
    "\n",
    "    y_pos = K.round(K.clip(y_true, 0, 1))\n",
    "    y_neg = 1 - y_pos\n",
    "\n",
    "    tp = K.sum(y_pos * y_pred_pos)\n",
    "    tn = K.sum(y_neg * y_pred_neg)\n",
    "\n",
    "    fp = K.sum(y_neg * y_pred_pos)\n",
    "    fn = K.sum(y_pos * y_pred_neg)\n",
    "\n",
    "    numerator = (tp * tn - fp * fn)\n",
    "    denominator = K.sqrt((tp + fp) * (tp + fn) * (tn + fp) * (tn + fn))\n",
    "\n",
    "    return numerator / (denominator + K.epsilon())\n",
    "\n",
    "def pos_acc(y_true, y_pred):\n",
    "    y_pred_pos = K.round(K.clip(y_pred, 0, 1))\n",
    "    y_pred_neg = 1 - y_pred_pos\n",
    "\n",
    "    y_pos = K.round(K.clip(y_true, 0, 1))\n",
    "    y_neg = 1 - y_pos\n",
    "\n",
    "    tp = K.sum(y_pos * y_pred_pos)\n",
    "    tn = K.sum(y_neg * y_pred_neg)\n",
    "\n",
    "    fp = K.sum(y_neg * y_pred_pos)\n",
    "    fn = K.sum(y_pos * y_pred_neg)\n",
    "\n",
    "    return tp/(tp+fn)\n",
    "\n",
    "def neg_acc(y_true, y_pred):\n",
    "    y_pred_pos = K.round(K.clip(y_pred, 0, 1))\n",
    "    y_pred_neg = 1 - y_pred_pos\n",
    "\n",
    "    y_pos = K.round(K.clip(y_true, 0, 1))\n",
    "    y_neg = 1 - y_pos\n",
    "\n",
    "    tp = K.sum(y_pos * y_pred_pos)\n",
    "    tn = K.sum(y_neg * y_pred_neg)\n",
    "\n",
    "    fp = K.sum(y_neg * y_pred_pos)\n",
    "    fn = K.sum(y_pos * y_pred_neg)\n",
    "\n",
    "    return tn/(tn+fp)"
   ]
  },
  {
   "cell_type": "markdown",
   "metadata": {},
   "source": [
    "# create model"
   ]
  },
  {
   "cell_type": "code",
   "execution_count": 6,
   "metadata": {
    "collapsed": false
   },
   "outputs": [],
   "source": [
    "sample_weight = np.ones((1,len(y_train_orig)))\n",
    "sample_weight[0,y_train_orig==0]=0.1/100\n",
    "kernel_sizes = [31,31,31] # should be odd\n",
    "pad_sizes = [floor(s/2) for s in kernel_sizes]\n",
    "model = keras.models.Sequential()\n",
    "model.add(ZeroPadding1D(padding=pad_sizes[0], input_shape=(None, x_train.shape[-1])))\n",
    "model.add(Conv1D(filters=num_y, kernel_size=kernel_sizes[0], activation=\"linear\"))\n",
    "model.add(ZeroPadding1D(padding=pad_sizes[1], input_shape=(None, x_train.shape[-1])))\n",
    "model.add(Conv1D(filters=num_y, kernel_size=kernel_sizes[1], activation=\"linear\"))\n",
    "model.add(ZeroPadding1D(padding=pad_sizes[2], input_shape=(None, x_train.shape[-1])))\n",
    "model.add(Conv1D(filters=num_y, kernel_size=kernel_sizes[2], activation=\"softmax\"))\n",
    "model.compile(loss='categorical_crossentropy', optimizer='adam', metrics=['accuracy',pos_acc,neg_acc],\n",
    "              sample_weight=sample_weight, sample_weight_mode=\"temporal\")"
   ]
  },
  {
   "cell_type": "markdown",
   "metadata": {},
   "source": [
    "# fit the model"
   ]
  },
  {
   "cell_type": "code",
   "execution_count": 7,
   "metadata": {
    "collapsed": false
   },
   "outputs": [
    {
     "name": "stdout",
     "output_type": "stream",
     "text": [
      "Epoch 1/20\n",
      "1/1 [==============================] - 2s - loss: 1.3684 - acc: 0.3366 - pos_acc: 5.2109e-04 - neg_acc: 0.9997\n",
      "Epoch 2/20\n",
      "1/1 [==============================] - 1s - loss: 1.3133 - acc: 0.7390 - pos_acc: 0.0047 - neg_acc: 0.9999\n",
      "Epoch 3/20\n",
      "1/1 [==============================] - 1s - loss: 1.2633 - acc: 0.9101 - pos_acc: 0.0106 - neg_acc: 0.9999\n",
      "Epoch 4/20\n",
      "1/1 [==============================] - 1s - loss: 1.2097 - acc: 0.9664 - pos_acc: 0.0204 - neg_acc: 0.9998\n",
      "Epoch 5/20\n",
      "1/1 [==============================] - 1s - loss: 1.1530 - acc: 0.9806 - pos_acc: 0.0348 - neg_acc: 0.9996\n",
      "Epoch 6/20\n",
      "1/1 [==============================] - 1s - loss: 1.0885 - acc: 0.9853 - pos_acc: 0.0560 - neg_acc: 0.9994\n",
      "Epoch 7/20\n",
      "1/1 [==============================] - 1s - loss: 1.0165 - acc: 0.9871 - pos_acc: 0.0859 - neg_acc: 0.9991\n",
      "Epoch 8/20\n",
      "1/1 [==============================] - 1s - loss: 0.9358 - acc: 0.9881 - pos_acc: 0.1274 - neg_acc: 0.9989\n",
      "Epoch 9/20\n",
      "1/1 [==============================] - 1s - loss: 0.8508 - acc: 0.9887 - pos_acc: 0.2089 - neg_acc: 0.9987\n",
      "Epoch 10/20\n",
      "1/1 [==============================] - 1s - loss: 0.7616 - acc: 0.9891 - pos_acc: 0.3626 - neg_acc: 0.9985\n",
      "Epoch 11/20\n",
      "1/1 [==============================] - 1s - loss: 0.6703 - acc: 0.9894 - pos_acc: 0.5434 - neg_acc: 0.9984\n",
      "Epoch 12/20\n",
      "1/1 [==============================] - 2s - loss: 0.5810 - acc: 0.9896 - pos_acc: 0.6838 - neg_acc: 0.9984\n",
      "Epoch 13/20\n",
      "1/1 [==============================] - 1s - loss: 0.4964 - acc: 0.9897 - pos_acc: 0.7884 - neg_acc: 0.9983\n",
      "Epoch 14/20\n",
      "1/1 [==============================] - 1s - loss: 0.4198 - acc: 0.9898 - pos_acc: 0.8541 - neg_acc: 0.9983\n",
      "Epoch 15/20\n",
      "1/1 [==============================] - 1s - loss: 0.3529 - acc: 0.9898 - pos_acc: 0.8941 - neg_acc: 0.9983\n",
      "Epoch 16/20\n",
      "1/1 [==============================] - 1s - loss: 0.2971 - acc: 0.9899 - pos_acc: 0.9190 - neg_acc: 0.9983\n",
      "Epoch 17/20\n",
      "1/1 [==============================] - 1s - loss: 0.2522 - acc: 0.9899 - pos_acc: 0.9354 - neg_acc: 0.9983\n",
      "Epoch 18/20\n",
      "1/1 [==============================] - 1s - loss: 0.2168 - acc: 0.9899 - pos_acc: 0.9469 - neg_acc: 0.9983\n",
      "Epoch 19/20\n",
      "1/1 [==============================] - 1s - loss: 0.1900 - acc: 0.9900 - pos_acc: 0.9558 - neg_acc: 0.9983\n",
      "Epoch 20/20\n",
      "1/1 [==============================] - 1s - loss: 0.1699 - acc: 0.9900 - pos_acc: 0.9627 - neg_acc: 0.9983\n"
     ]
    },
    {
     "name": "stderr",
     "output_type": "stream",
     "text": [
      "/Library/Frameworks/Python.framework/Versions/3.4/lib/python3.4/site-packages/keras/backend/tensorflow_backend.py:2124: UserWarning: Expected no kwargs, you passed 1\n",
      "kwargs passed to function are ignored with Tensorflow backend\n",
      "  warnings.warn('\\n'.join(msg))\n"
     ]
    },
    {
     "data": {
      "text/plain": [
       "<keras.callbacks.History at 0x11af2c6a0>"
      ]
     },
     "execution_count": 7,
     "metadata": {},
     "output_type": "execute_result"
    }
   ],
   "source": [
    "epochs = 20\n",
    "model.fit(x_train, y_train, epochs=epochs, verbose=1,initial_epoch=0)"
   ]
  },
  {
   "cell_type": "markdown",
   "metadata": {},
   "source": [
    "# evaluate"
   ]
  },
  {
   "cell_type": "code",
   "execution_count": 19,
   "metadata": {
    "collapsed": false
   },
   "outputs": [
    {
     "name": "stdout",
     "output_type": "stream",
     "text": [
      "----------training----------\n",
      "pred nonzeros\t 0.00978995842574\n",
      "acc\t\t 0.990002057236\n",
      "corr\t\t -0.00484119517042\n",
      "----------testing----------\n",
      "pred nonzeros\t 0.0\n",
      "acc\t\t 0.971746751908\n",
      "corr\t\t nan\n"
     ]
    },
    {
     "name": "stderr",
     "output_type": "stream",
     "text": [
      "/Library/Frameworks/Python.framework/Versions/3.4/lib/python3.4/site-packages/ipykernel/__main__.py:5: FutureWarning: comparison to `None` will result in an elementwise object comparison in the future.\n"
     ]
    },
    {
     "data": {
      "image/png": "[encoded data removed]",
      "text/plain": [
       "<matplotlib.figure.Figure at 0x11a16e4a8>"
      ]
     },
     "metadata": {},
     "output_type": "display_data"
    }
   ],
   "source": [
    "def visualize(calcium, spikes, spikes2=None):\n",
    "    plt.figure(figsize=(18, 6))\n",
    "    t = np.arange(len(calcium))\n",
    "    plt.hold(True)\n",
    "    if spikes2==None:\n",
    "        plt.subplot(211)\n",
    "        plt.plot(t, calcium, color='#348ABD')\n",
    "        plt.subplot(212)\n",
    "        plt.plot(t, spikes, color='black',label='gt')\n",
    "    else:\n",
    "        plt.subplot(311)\n",
    "        plt.plot(t, calcium, color='#348ABD')\n",
    "        plt.subplot(312)\n",
    "        plt.plot(t, spikes, color='black',label='gt')\n",
    "        plt.subplot(313)\n",
    "        plt.plot(t, spikes2, color='g',label='pred')\n",
    "#     plt.ylim([-6, 3])\n",
    "    plt.xlim([0,10000])\n",
    "    plt.tight_layout()\n",
    "    plt.show()\n",
    "    \n",
    "def corr(gt, pred):\n",
    "    return np.corrcoef(gt,pred)[0,1]\n",
    "\n",
    "print('----------training----------')\n",
    "y_pred = np.argmax(model.predict(x_train)[0,:,:],axis=1)\n",
    "print('pred nonzeros\\t',str(np.sum(y_pred) / y_pred.size))\n",
    "print(\"acc\\t\\t\",accuracy_score(y_pred,y_train_orig))\n",
    "print(\"corr\\t\\t\",corr(y_pred,np.argmax(y_train[0,:,:],axis=1)))\n",
    "\n",
    "print('----------testing----------')\n",
    "y_pred = np.argmax(model.predict(x_test)[0,:,:],axis=1)\n",
    "print('pred nonzeros\\t',str(np.sum(y_pred) / y_pred.size))\n",
    "print(\"acc\\t\\t\",accuracy_score(y_pred,y_test))\n",
    "print(\"corr\\t\\t\",corr(y_pred,y_test))\n",
    "visualize(x_test[0,:,0],y_test,y_pred)"
   ]
  },
  {
   "cell_type": "code",
   "execution_count": null,
   "metadata": {
    "collapsed": true
   },
   "outputs": [],
   "source": []
  }
 ],
 "metadata": {
  "kernelspec": {
   "display_name": "Python 3",
   "language": "python",
   "name": "python3"
  },
  "language_info": {
   "codemirror_mode": {
    "name": "ipython",
    "version": 3
   },
   "file_extension": ".py",
   "mimetype": "text/x-python",
   "name": "python",
   "nbconvert_exporter": "python",
   "pygments_lexer": "ipython3",
   "version": "3.4.1"
  },
  "latex_envs": {
   "LaTeX_envs_menu_present": true,
   "autocomplete": true,
   "bibliofile": "biblio.bib",
   "cite_by": "apalike",
   "current_citInitial": 1,
   "eqLabelWithNumbers": true,
   "eqNumInitial": 1,
   "hotkeys": {
    "equation": "Ctrl-E",
    "itemize": "Ctrl-I"
   },
   "labels_anchors": false,
   "latex_user_defs": false,
   "report_style_numbering": false,
   "user_envs_cfg": false
  },
  "toc": {
   "colors": {
    "hover_highlight": "#DAA520",
    "running_highlight": "#FF0000",
    "selected_highlight": "#FFD700"
   },
   "moveMenuLeft": true,
   "nav_menu": {
    "height": "84px",
    "width": "252px"
   },
   "navigate_menu": true,
   "number_sections": true,
   "sideBar": true,
   "threshold": 4,
   "toc_cell": false,
   "toc_section_display": "block",
   "toc_window_display": false,
   "widenNotebook": false
  }
 },
 "nbformat": 4,
 "nbformat_minor": 0
}
